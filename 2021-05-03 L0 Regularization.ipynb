{
 "cells": [
  {
   "cell_type": "markdown",
   "id": "24390c7c-94a4-4ff0-86e2-3997aaa9e738",
   "metadata": {},
   "source": [
    "## Learning Sparse Neural Networks through L0 Regularization\n",
    "https://www.semanticscholar.org/paper/Learning-Sparse-Neural-Networks-through-L0-Louizos-Welling/572f5d18a3943dce4e14f937ef66977a01891096"
   ]
  },
  {
   "cell_type": "markdown",
   "id": "43c2744b-2490-405f-87e9-ffab94308324",
   "metadata": {},
   "source": []
  }
 ],
 "metadata": {
  "kernelspec": {
   "display_name": "Python 3",
   "language": "python",
   "name": "python3"
  },
  "language_info": {
   "codemirror_mode": {
    "name": "ipython",
    "version": 3
   },
   "file_extension": ".py",
   "mimetype": "text/x-python",
   "name": "python",
   "nbconvert_exporter": "python",
   "pygments_lexer": "ipython3",
   "version": "3.8.10"
  }
 },
 "nbformat": 4,
 "nbformat_minor": 5
}
